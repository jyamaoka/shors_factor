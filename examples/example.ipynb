{
 "cells": [
  {
   "cell_type": "code",
   "execution_count": null,
   "id": "29e367e4",
   "metadata": {},
   "outputs": [],
   "source": [
    "from shors_factor.factoring_simple import factor_number"
   ]
  },
  {
   "cell_type": "code",
   "execution_count": null,
   "id": "e8f0c95a",
   "metadata": {},
   "outputs": [],
   "source": [
    "# Number to be factored\n",
    "number = 15\n",
    "\n",
    "# Factor the number using Shor's algorithm\n",
    "factor = factor_number(number, max_attempts=200)\n",
    "\n",
    "# Check if the factorization was successful\n",
    "print(f\"Factors of {number} are: {factor}\")"
   ]
  }
 ],
 "metadata": {
  "kernelspec": {
   "display_name": "qiskit_2",
   "language": "python",
   "name": "python3"
  },
  "language_info": {
   "codemirror_mode": {
    "name": "ipython",
    "version": 3
   },
   "file_extension": ".py",
   "mimetype": "text/x-python",
   "name": "python",
   "nbconvert_exporter": "python",
   "pygments_lexer": "ipython3",
   "version": "3.10.16"
  }
 },
 "nbformat": 4,
 "nbformat_minor": 5
}
