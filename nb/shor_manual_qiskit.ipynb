{
 "cells": [
  {
   "cell_type": "markdown",
   "id": "9006ca9b",
   "metadata": {},
   "source": [
    "# Shor's Algorithm (Manual Implementation)"
   ]
  },
  {
   "cell_type": "markdown",
   "id": "00168059",
   "metadata": {},
   "source": [
    "This notebook demonstrates a manual implementation of Shor's Algorithm using Qiskit without relying on the built-in `Shor` class."
   ]
  },
  {
   "cell_type": "code",
   "execution_count": null,
   "id": "5f33e532",
   "metadata": {},
   "outputs": [],
   "source": [
    "from qiskit import QuantumCircuit, Aer, execute\n",
    "from qiskit.circuit.library import QFT\n",
    "from math import gcd\n",
    "from fractions import Fraction\n",
    "import numpy as np\n"
   ]
  },
  {
   "cell_type": "code",
   "execution_count": null,
   "id": "3a9775f5",
   "metadata": {},
   "outputs": [],
   "source": [
    "def qpe_modexp(a: int, N: int, n_count: int) -> QuantumCircuit:\n",
    "    qc = QuantumCircuit(n_count + 4, n_count)\n",
    "    for q in range(n_count):\n",
    "        qc.h(q)\n",
    "    qc.x(n_count)\n",
    "    for q in range(n_count):\n",
    "        qc = apply_c_amod15(qc, a**(2**q) % N, q, n_count)\n",
    "    qc.append(QFT(num_qubits=n_count, inverse=True, do_swaps=True), range(n_count))\n",
    "    qc.measure(range(n_count), range(n_count))\n",
    "    return qc\n"
   ]
  },
  {
   "cell_type": "code",
   "execution_count": null,
   "id": "105d4edd",
   "metadata": {},
   "outputs": [],
   "source": [
    "def apply_c_amod15(qc, a: int, control_qubit: int, n_count: int) -> QuantumCircuit:\n",
    "    x = n_count\n",
    "    if a == 2:\n",
    "        qc.cswap(control_qubit, x, x+1)\n",
    "        qc.cswap(control_qubit, x+1, x+2)\n",
    "        qc.cswap(control_qubit, x+2, x+3)\n",
    "    elif a == 4:\n",
    "        qc.cswap(control_qubit, x, x+2)\n",
    "        qc.cswap(control_qubit, x+1, x+3)\n",
    "    elif a == 7:\n",
    "        qc.cswap(control_qubit, x, x+3)\n",
    "        qc.cswap(control_qubit, x+1, x+2)\n",
    "    elif a == 8:\n",
    "        qc.cswap(control_qubit, x, x+2)\n",
    "        qc.cswap(control_qubit, x+1, x+3)\n",
    "        qc.cswap(control_qubit, x+2, x+3)\n",
    "    elif a == 11:\n",
    "        qc.cswap(control_qubit, x, x+1)\n",
    "        qc.cswap(control_qubit, x+1, x+2)\n",
    "        qc.cswap(control_qubit, x+2, x+3)\n",
    "    elif a == 13:\n",
    "        qc.cswap(control_qubit, x, x+2)\n",
    "        qc.cswap(control_qubit, x+1, x+3)\n",
    "        qc.cswap(control_qubit, x+2, x+3)\n",
    "    return qc\n"
   ]
  },
  {
   "cell_type": "code",
   "execution_count": null,
   "id": "1a674fbe",
   "metadata": {},
   "outputs": [],
   "source": [
    "def get_period(phase: int, n_count: int) -> int:\n",
    "    decimal = phase / (2 ** n_count)\n",
    "    frac = Fraction(decimal).limit_denominator(15)\n",
    "    return frac.denominator\n"
   ]
  },
  {
   "cell_type": "code",
   "execution_count": null,
   "id": "1f94f271",
   "metadata": {},
   "outputs": [],
   "source": [
    "def shor_manual(N: int, a: int = 7) -> int:\n",
    "    if gcd(a, N) != 1:\n",
    "        return gcd(a, N)\n",
    "\n",
    "    n_count = 8\n",
    "    qc = qpe_modexp(a, N, n_count)\n",
    "    backend = Aer.get_backend('qasm_simulator')\n",
    "    result = execute(qc, backend, shots=1).result()\n",
    "    counts = result.get_counts()\n",
    "    phase_bin = max(counts, key=counts.get)\n",
    "    phase_int = int(phase_bin, 2)\n",
    "    r = get_period(phase_int, n_count)\n",
    "    if r % 2 != 0:\n",
    "        return None\n",
    "    plus = pow(a, r // 2) + 1\n",
    "    minus = pow(a, r // 2) - 1\n",
    "    factor1 = gcd(plus, N)\n",
    "    factor2 = gcd(minus, N)\n",
    "    if factor1 == 1 or factor1 == N:\n",
    "        return None\n",
    "    return factor1\n"
   ]
  },
  {
   "cell_type": "code",
   "execution_count": null,
   "id": "ea0a387e",
   "metadata": {},
   "outputs": [],
   "source": [
    "N = 15\n",
    "a = 7\n",
    "factor = shor_manual(N, a)\n",
    "print(f\"Found factor of {N} using base {a}: {factor}\")\n"
   ]
  }
 ],
 "metadata": {},
 "nbformat": 4,
 "nbformat_minor": 5
}