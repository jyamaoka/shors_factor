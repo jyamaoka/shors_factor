{
 "cells": [
  {
   "cell_type": "markdown",
   "id": "9006ca9b",
   "metadata": {},
   "source": [
    "# Shor's Algorithm (Manual Implementation)"
   ]
  },
  {
   "cell_type": "markdown",
   "id": "00168059",
   "metadata": {},
   "source": [
    "This notebook demonstrates a manual implementation of Shor's Algorithm using Qiskit without relying on the built-in `Shor` class."
   ]
  },
  {
   "cell_type": "code",
   "execution_count": 78,
   "id": "5f33e532",
   "metadata": {},
   "outputs": [],
   "source": [
    "from qiskit import QuantumCircuit, transpile, QuantumRegister, ClassicalRegister\n",
    "from qiskit_aer import AerSimulator\n",
    "from qiskit.circuit.library import QFT\n",
    "from math import gcd, ceil, log\n",
    "from fractions import Fraction\n",
    "import numpy as np\n"
   ]
  },
  {
   "cell_type": "code",
   "execution_count": 2,
   "id": "3a9775f5",
   "metadata": {},
   "outputs": [],
   "source": [
    "def qpe_modexp(a: int, N: int, n_count: int) -> QuantumCircuit:\n",
    "    qc = QuantumCircuit(n_count + 4, n_count)\n",
    "    for q in range(n_count):\n",
    "        qc.h(q)\n",
    "    qc.x(n_count)\n",
    "    for q in range(n_count):\n",
    "        qc = apply_c_amod15(qc, a**(2**q) % N, q, n_count)\n",
    "    qc.append(QFT(num_qubits=n_count, inverse=True, do_swaps=True), range(n_count))\n",
    "    qc.measure(range(n_count), range(n_count))\n",
    "    return qc\n"
   ]
  },
  {
   "cell_type": "code",
   "execution_count": 3,
   "id": "105d4edd",
   "metadata": {},
   "outputs": [],
   "source": [
    "def apply_c_amod15(qc, a: int, control_qubit: int, n_count: int) -> QuantumCircuit:\n",
    "    x = n_count\n",
    "    if a == 2:\n",
    "        qc.cswap(control_qubit, x, x+1)\n",
    "        qc.cswap(control_qubit, x+1, x+2)\n",
    "        qc.cswap(control_qubit, x+2, x+3)\n",
    "    elif a == 4:\n",
    "        qc.cswap(control_qubit, x, x+2)\n",
    "        qc.cswap(control_qubit, x+1, x+3)\n",
    "    elif a == 7:\n",
    "        qc.cswap(control_qubit, x, x+3)\n",
    "        qc.cswap(control_qubit, x+1, x+2)\n",
    "    elif a == 8:\n",
    "        qc.cswap(control_qubit, x, x+2)\n",
    "        qc.cswap(control_qubit, x+1, x+3)\n",
    "        qc.cswap(control_qubit, x+2, x+3)\n",
    "    elif a == 11:\n",
    "        qc.cswap(control_qubit, x, x+1)\n",
    "        qc.cswap(control_qubit, x+1, x+2)\n",
    "        qc.cswap(control_qubit, x+2, x+3)\n",
    "    elif a == 13:\n",
    "        qc.cswap(control_qubit, x, x+2)\n",
    "        qc.cswap(control_qubit, x+1, x+3)\n",
    "        qc.cswap(control_qubit, x+2, x+3)\n",
    "    return qc\n"
   ]
  },
  {
   "cell_type": "code",
   "execution_count": 4,
   "id": "1a674fbe",
   "metadata": {},
   "outputs": [],
   "source": [
    "def get_period(phase: int, n_count: int) -> int:\n",
    "    decimal = phase / (2 ** n_count)\n",
    "    frac = Fraction(decimal).limit_denominator(15)\n",
    "    return frac.denominator\n"
   ]
  },
  {
   "cell_type": "code",
   "execution_count": 71,
   "id": "68fe1a9e-339d-4838-9413-c0addb444ec1",
   "metadata": {},
   "outputs": [],
   "source": [
    "def get_circuit0(a,N):\n",
    "    \"\"\" Get an integer a that is coprime with N \"\"\"\n",
    "    #a = get_value_a(N)\n",
    "\n",
    "    \"\"\" If user wants to force some values, can do that here, please make sure to update print and that N and a are coprime\"\"\"\n",
    "    \"\"\"print('Forcing N=15 and a=4 because its the fastest case, please read top of source file for more info')\n",
    "    N=15\n",
    "    a=2\"\"\"\n",
    "\n",
    "    \"\"\" Get n value used in Shor's algorithm, to know how many qubits are used \"\"\"\n",
    "    n = ceil(log(N,2))\n",
    "    \n",
    "    \"\"\" Create quantum and classical registers \"\"\"\n",
    "\n",
    "    \"\"\"auxilliary quantum register used in addition and multiplication\"\"\"\n",
    "    aux = QuantumRegister(n+2)\n",
    "    \"\"\"single qubit where the sequential QFT is performed\"\"\"\n",
    "    up_reg = QuantumRegister(1)\n",
    "    \"\"\"quantum register where the multiplications are made\"\"\"\n",
    "    down_reg = QuantumRegister(n)\n",
    "    \"\"\"classical register where the measured values of the sequential QFT are stored\"\"\"\n",
    "    up_classic = ClassicalRegister(2*n)\n",
    "    \"\"\"classical bit used to reset the state of the top qubit to 0 if the previous measurement was 1\"\"\"\n",
    "    c_aux = ClassicalRegister(1)\n",
    "\n",
    "    \"\"\" Create Quantum Circuit \"\"\"\n",
    "    circuit = QuantumCircuit(down_reg , up_reg , aux, up_classic, c_aux)\n",
    "\n",
    "    \"\"\" Initialize down register to 1\"\"\"\n",
    "    circuit.x(down_reg[0])\n",
    "\n",
    "    \"\"\" Cycle to create the Sequential QFT, measuring qubits and applying the right gates according to measurements \"\"\"\n",
    "    for i in range(0, 2*n):\n",
    "        \"\"\"reset the top qubit to 0 if the previous measurement was 1\"\"\"\n",
    "        circuit.x(up_reg).c_if(c_aux, 1)\n",
    "        circuit.h(up_reg)\n",
    "        cMULTmodN(circuit, up_reg[0], down_reg, aux, a**(2**(2*n-1-i)), N, n)\n",
    "        \"\"\"cycle through all possible values of the classical register and apply the corresponding conditional phase shift\"\"\"\n",
    "        for j in range(0, 2**i):\n",
    "            \"\"\"the phase shift is applied if the value of the classical register matches j exactly\"\"\"\n",
    "            circuit.u1(getAngle(j, i), up_reg[0]).c_if(up_classic, j)\n",
    "        circuit.h(up_reg)\n",
    "        circuit.measure(up_reg[0], up_classic[i])\n",
    "        circuit.measure(up_reg[0], c_aux[0])\n",
    "    return circuit\n",
    "    "
   ]
  },
  {
   "cell_type": "code",
   "execution_count": 75,
   "id": "b5152782-2274-48ba-bbe1-2d36b24910f8",
   "metadata": {},
   "outputs": [],
   "source": [
    "from qiskit import QuantumCircuit, QuantumRegister, ClassicalRegister\n",
    "from math import ceil, log, gcd\n",
    "import numpy as np\n",
    "\n",
    "def get_circuit(a, N):\n",
    "    \"\"\" Get an integer a that is coprime with N \"\"\"\n",
    "    n = ceil(log(N, 2))\n",
    "\n",
    "    \"\"\" Create quantum and classical registers \"\"\"\n",
    "    aux = QuantumRegister(n+2, name=\"aux\")\n",
    "    up_reg = QuantumRegister(1, name=\"up\")\n",
    "    down_reg = QuantumRegister(n, name=\"down\")\n",
    "    up_classic = ClassicalRegister(2*n, name=\"up_classic\")\n",
    "    c_aux = ClassicalRegister(1, name=\"c_aux\")\n",
    "\n",
    "    \"\"\" Create Quantum Circuit \"\"\"\n",
    "    circuit = QuantumCircuit(down_reg, up_reg, aux, up_classic, c_aux)\n",
    "\n",
    "    \"\"\" Initialize down register to 1\"\"\"\n",
    "    circuit.x(down_reg[0])\n",
    "\n",
    "    \"\"\" Cycle to create the Sequential QFT, measuring qubits and applying the right gates according to measurements \"\"\"\n",
    "    #for i in range(0, 2*n):\n",
    "    #    \"\"\" Reset the top qubit to 0 if the previous measurement was 1 \"\"\"\n",
    "    #    circuit.x(up_reg).c_if(c_aux, 1)\n",
    "    #    circuit.h(up_reg)\n",
    "    #    \n",
    "    #    # Replace deprecated function calls\n",
    "    #    cMULTmodN(circuit, up_reg[0], down_reg, aux, a**(2**(2*n-1-i)), N, n)\n",
    "    #    \n",
    "    #    \"\"\" Apply conditional phase shift \"\"\"\n",
    "    #    for j in range(0, 2**i):\n",
    "    #        circuit.p(getAngle(j, i), up_reg[0]).c_if(up_classic, j)  # Replace u1 with p\n",
    "    #\n",
    "    #    circuit.h(up_reg)\n",
    "    #    circuit.measure(up_reg[0], up_classic[i])\n",
    "    #    circuit.measure(up_reg[0], c_aux[0])\n",
    "\n",
    "    for i in range(0, 2*n):\n",
    "        \"\"\" Reset the top qubit to 0 if the previous measurement was 1 \"\"\"\n",
    "        reset_instruction = circuit.x(up_reg[0])  # Store instruction\n",
    "        reset_instruction.c_if(c_aux, 1)  # Apply conditional logic\n",
    "\n",
    "        circuit.h(up_reg[0])\n",
    "\n",
    "        # Replace deprecated function calls\n",
    "        cMULTmodN(circuit, up_reg[0], down_reg, aux, a**(2**(2*n-1-i)), N, n)\n",
    "\n",
    "        \"\"\" Apply conditional phase shift \"\"\"\n",
    "        for j in range(0, 2**i):\n",
    "            phase_instruction = circuit.p(getAngle(j, i), up_reg[0])  # Store instruction\n",
    "            phase_instruction.c_if(up_classic, j)  # Apply conditional logic\n",
    "\n",
    "        circuit.h(up_reg[0])\n",
    "        circuit.measure(up_reg[0], up_classic[i])\n",
    "        circuit.measure(up_reg[0], c_aux[0])\n",
    "\n",
    "    return circuit\n"
   ]
  },
  {
   "cell_type": "code",
   "execution_count": 64,
   "id": "9c6bb649-8d57-48d4-a490-865466f5dc10",
   "metadata": {},
   "outputs": [],
   "source": [
    "def get_random_base(N):\n",
    "    base = np.random.randint(2, N)\n",
    "    while gcd(base, N) != 1:\n",
    "        base = np.random.randint(2, N)\n",
    "    return base"
   ]
  },
  {
   "cell_type": "code",
   "execution_count": 65,
   "id": "1f94f271",
   "metadata": {},
   "outputs": [],
   "source": [
    "def shor_manual(N: int, a: int = 7) -> int:\n",
    "    if gcd(a, N) != 1:\n",
    "        return gcd(a, N)\n",
    "\n",
    "    n_count = 8\n",
    "    #qc = qpe_modexp(a, N, n_count)\n",
    "    qc =  get_circuit(a,N)\n",
    "    #backend = Aer.get_backend('qasm_simulator')\n",
    "    #result = execute(qc, backend, shots=1).result()\n",
    "\n",
    "    simulator = AerSimulator()\n",
    "    compiled_circuit = transpile(qc, simulator)\n",
    "    job = simulator.run(compiled_circuit)\n",
    "    result = job.result()\n",
    "    \n",
    "    counts = result.get_counts()\n",
    "    print(counts)\n",
    "    phase_bin = max(counts, key=counts.get)\n",
    "    phase_int = int(phase_bin, 2)\n",
    "    r = get_period(phase_int, n_count)\n",
    "    if r % 2 != 0:\n",
    "        return None\n",
    "    plus = pow(a, r // 2) + 1\n",
    "    minus = pow(a, r // 2) - 1\n",
    "    factor1 = gcd(plus, N)\n",
    "    factor2 = gcd(minus, N)\n",
    "    if factor1 == 1 or factor1 == N:\n",
    "        return None\n",
    "    return factor1\n"
   ]
  },
  {
   "cell_type": "code",
   "execution_count": 76,
   "id": "ea0a387e",
   "metadata": {},
   "outputs": [
    {
     "ename": "AttributeError",
     "evalue": "'InstructionSet' object has no attribute 'c_if'",
     "output_type": "error",
     "traceback": [
      "\u001b[1;31m---------------------------------------------------------------------------\u001b[0m",
      "\u001b[1;31mAttributeError\u001b[0m                            Traceback (most recent call last)",
      "Cell \u001b[1;32mIn[76], line 6\u001b[0m\n\u001b[0;32m      4\u001b[0m \u001b[38;5;28;01mwhile\u001b[39;00m factor \u001b[38;5;241m==\u001b[39m \u001b[38;5;28;01mNone\u001b[39;00m :\n\u001b[0;32m      5\u001b[0m     a \u001b[38;5;241m=\u001b[39m get_random_base(N)\n\u001b[1;32m----> 6\u001b[0m     factor \u001b[38;5;241m=\u001b[39m \u001b[43mshor_manual\u001b[49m\u001b[43m(\u001b[49m\u001b[43mN\u001b[49m\u001b[43m,\u001b[49m\u001b[43m \u001b[49m\u001b[43ma\u001b[49m\u001b[43m)\u001b[49m\n\u001b[0;32m      7\u001b[0m \u001b[38;5;28mprint\u001b[39m(\u001b[38;5;124mf\u001b[39m\u001b[38;5;124m\"\u001b[39m\u001b[38;5;124mFound factor of \u001b[39m\u001b[38;5;132;01m{\u001b[39;00mN\u001b[38;5;132;01m}\u001b[39;00m\u001b[38;5;124m using base \u001b[39m\u001b[38;5;132;01m{\u001b[39;00ma\u001b[38;5;132;01m}\u001b[39;00m\u001b[38;5;124m: \u001b[39m\u001b[38;5;132;01m{\u001b[39;00mfactor\u001b[38;5;132;01m}\u001b[39;00m\u001b[38;5;124m\"\u001b[39m)\n",
      "Cell \u001b[1;32mIn[65], line 7\u001b[0m, in \u001b[0;36mshor_manual\u001b[1;34m(N, a)\u001b[0m\n\u001b[0;32m      5\u001b[0m n_count \u001b[38;5;241m=\u001b[39m \u001b[38;5;241m8\u001b[39m\n\u001b[0;32m      6\u001b[0m \u001b[38;5;66;03m#qc = qpe_modexp(a, N, n_count)\u001b[39;00m\n\u001b[1;32m----> 7\u001b[0m qc \u001b[38;5;241m=\u001b[39m  \u001b[43mget_circuit\u001b[49m\u001b[43m(\u001b[49m\u001b[43ma\u001b[49m\u001b[43m,\u001b[49m\u001b[43mN\u001b[49m\u001b[43m)\u001b[49m\n\u001b[0;32m      8\u001b[0m \u001b[38;5;66;03m#backend = Aer.get_backend('qasm_simulator')\u001b[39;00m\n\u001b[0;32m      9\u001b[0m \u001b[38;5;66;03m#result = execute(qc, backend, shots=1).result()\u001b[39;00m\n\u001b[0;32m     11\u001b[0m simulator \u001b[38;5;241m=\u001b[39m AerSimulator()\n",
      "Cell \u001b[1;32mIn[75], line 42\u001b[0m, in \u001b[0;36mget_circuit\u001b[1;34m(a, N)\u001b[0m\n\u001b[0;32m     40\u001b[0m \u001b[38;5;250m\u001b[39m\u001b[38;5;124;03m\"\"\" Reset the top qubit to 0 if the previous measurement was 1 \"\"\"\u001b[39;00m\n\u001b[0;32m     41\u001b[0m reset_instruction \u001b[38;5;241m=\u001b[39m circuit\u001b[38;5;241m.\u001b[39mx(up_reg[\u001b[38;5;241m0\u001b[39m])  \u001b[38;5;66;03m# Store instruction\u001b[39;00m\n\u001b[1;32m---> 42\u001b[0m \u001b[43mreset_instruction\u001b[49m\u001b[38;5;241;43m.\u001b[39;49m\u001b[43mc_if\u001b[49m(c_aux, \u001b[38;5;241m1\u001b[39m)  \u001b[38;5;66;03m# Apply conditional logic\u001b[39;00m\n\u001b[0;32m     44\u001b[0m circuit\u001b[38;5;241m.\u001b[39mh(up_reg[\u001b[38;5;241m0\u001b[39m])\n\u001b[0;32m     46\u001b[0m \u001b[38;5;66;03m# Replace deprecated function calls\u001b[39;00m\n",
      "\u001b[1;31mAttributeError\u001b[0m: 'InstructionSet' object has no attribute 'c_if'"
     ]
    }
   ],
   "source": [
    "N = 35\n",
    "a = get_random_base(N)\n",
    "factor = None\n",
    "while factor == None :\n",
    "    a = get_random_base(N)\n",
    "    factor = shor_manual(N, a)\n",
    "print(f\"Found factor of {N} using base {a}: {factor}\")\n"
   ]
  },
  {
   "cell_type": "code",
   "execution_count": 52,
   "id": "4ac88e99-c7b6-45d1-aca3-a9b48f4b890b",
   "metadata": {},
   "outputs": [
    {
     "data": {
      "text/plain": [
       "143"
      ]
     },
     "execution_count": 52,
     "metadata": {},
     "output_type": "execute_result"
    }
   ],
   "source": [
    "11*13\n"
   ]
  },
  {
   "cell_type": "code",
   "execution_count": 54,
   "id": "5b3f9467-0089-403c-9bf7-12314d8d2d2f",
   "metadata": {},
   "outputs": [
    {
     "name": "stdout",
     "output_type": "stream",
     "text": [
      "138\n",
      "25\n",
      "53\n",
      "92\n",
      "27\n",
      "14\n",
      "53\n",
      "92\n"
     ]
    }
   ],
   "source": [
    "N = 143\n",
    "a = get_random_base(N)\n",
    "for q in range(8):\n",
    "    print(a**(2**q) % N)"
   ]
  },
  {
   "cell_type": "code",
   "execution_count": 80,
   "id": "59e618a7-7d58-4422-9779-e833db1cb6ef",
   "metadata": {},
   "outputs": [
    {
     "name": "stdout",
     "output_type": "stream",
     "text": [
      "Random base selected: 3\n"
     ]
    },
    {
     "ename": "NameError",
     "evalue": "name 'qc' is not defined",
     "output_type": "error",
     "traceback": [
      "\u001b[1;31m---------------------------------------------------------------------------\u001b[0m",
      "\u001b[1;31mNameError\u001b[0m                                 Traceback (most recent call last)",
      "Cell \u001b[1;32mIn[80], line 36\u001b[0m\n\u001b[0;32m     33\u001b[0m     \u001b[38;5;28;01mreturn\u001b[39;00m factors\n\u001b[0;32m     35\u001b[0m N \u001b[38;5;241m=\u001b[39m \u001b[38;5;241m35\u001b[39m  \u001b[38;5;66;03m# Number to factor\u001b[39;00m\n\u001b[1;32m---> 36\u001b[0m \u001b[38;5;28mprint\u001b[39m(\u001b[43mshors_algorithm\u001b[49m\u001b[43m(\u001b[49m\u001b[43mN\u001b[49m\u001b[43m)\u001b[49m)\n",
      "Cell \u001b[1;32mIn[80], line 27\u001b[0m, in \u001b[0;36mshors_algorithm\u001b[1;34m(N)\u001b[0m\n\u001b[0;32m     21\u001b[0m \u001b[38;5;66;03m# Add modular exponentiation and measurement...\u001b[39;00m\n\u001b[0;32m     22\u001b[0m \n\u001b[0;32m     23\u001b[0m \u001b[38;5;66;03m#simulator = Aer.get_backend('qasm_simulator')\u001b[39;00m\n\u001b[0;32m     24\u001b[0m \u001b[38;5;66;03m#result = execute(circuit, simulator).result()\u001b[39;00m\n\u001b[0;32m     26\u001b[0m simulator \u001b[38;5;241m=\u001b[39m AerSimulator()\n\u001b[1;32m---> 27\u001b[0m compiled_circuit \u001b[38;5;241m=\u001b[39m transpile(\u001b[43mqc\u001b[49m, simulator)\n\u001b[0;32m     28\u001b[0m job \u001b[38;5;241m=\u001b[39m simulator\u001b[38;5;241m.\u001b[39mrun(compiled_circuit)\n\u001b[0;32m     29\u001b[0m result \u001b[38;5;241m=\u001b[39m job\u001b[38;5;241m.\u001b[39mresult()\n",
      "\u001b[1;31mNameError\u001b[0m: name 'qc' is not defined"
     ]
    }
   ],
   "source": [
    "from qiskit import QuantumCircuit\n",
    "from qiskit_aer import AerSimulator\n",
    "\n",
    "import numpy as np\n",
    "from math import gcd\n",
    "\n",
    "def get_random_base(N):\n",
    "    \"\"\" Select a random base that is coprime with N \"\"\"\n",
    "    base = np.random.randint(2, N)\n",
    "    while gcd(base, N) != 1:\n",
    "        base = np.random.randint(2, N)\n",
    "    return base\n",
    "\n",
    "def shors_algorithm(N):\n",
    "    base = get_random_base(N)\n",
    "    print(f\"Random base selected: {base}\")\n",
    "\n",
    "    # Quantum circuit for period finding\n",
    "    circuit = QuantumCircuit(4, 4)\n",
    "    circuit.h(range(4))  # Apply Hadamard gates\n",
    "    # Add modular exponentiation and measurement...\n",
    "\n",
    "    #simulator = Aer.get_backend('qasm_simulator')\n",
    "    #result = execute(circuit, simulator).result()\n",
    "\n",
    "    simulator = AerSimulator()\n",
    "    compiled_circuit = transpile(qc, simulator)\n",
    "    job = simulator.run(compiled_circuit)\n",
    "    result = job.result()\n",
    "\n",
    "    # Extract period and compute factors (simplified here)\n",
    "    factors = [gcd(base**2 - 1, N), gcd(base**2 + 1, N)]\n",
    "    return factors\n",
    "\n",
    "N = 35  # Number to factor\n",
    "print(shors_algorithm(N))"
   ]
  },
  {
   "cell_type": "code",
   "execution_count": 82,
   "id": "8a9954ba-769b-4291-bd21-da8deee15695",
   "metadata": {},
   "outputs": [
    {
     "data": {
      "text/plain": [
       "4"
      ]
     },
     "execution_count": 82,
     "metadata": {},
     "output_type": "execute_result"
    }
   ],
   "source": [
    "n =15\n",
    "\n",
    "n.bit_length()"
   ]
  },
  {
   "cell_type": "code",
   "execution_count": null,
   "id": "ce07077b-c661-4062-b621-f26a8696f47f",
   "metadata": {},
   "outputs": [],
   "source": []
  }
 ],
 "metadata": {
  "kernelspec": {
   "display_name": "qiskit",
   "language": "python",
   "name": "python3"
  },
  "language_info": {
   "codemirror_mode": {
    "name": "ipython",
    "version": 3
   },
   "file_extension": ".py",
   "mimetype": "text/x-python",
   "name": "python",
   "nbconvert_exporter": "python",
   "pygments_lexer": "ipython3",
   "version": "3.10.16"
  }
 },
 "nbformat": 4,
 "nbformat_minor": 5
}
